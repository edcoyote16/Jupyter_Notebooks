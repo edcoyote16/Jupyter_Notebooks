{
 "cells": [
  {
   "cell_type": "markdown",
   "metadata": {},
   "source": [
    "<img src=\"xxxx.jpg\" width=\"200\">\n",
    "<h1><center>School</center></h1>"
   ]
  },
  {
   "cell_type": "markdown",
   "metadata": {},
   "source": [
    "<h1><center>Envío de correos individualizados a partir de una base de datos en formato csv</center></h1>"
   ]
  },
  {
   "cell_type": "markdown",
   "metadata": {},
   "source": [
    "## 1. Importar librería pandas, smtplib, ssl, email y time"
   ]
  },
  {
   "cell_type": "code",
   "execution_count": 20,
   "metadata": {},
   "outputs": [],
   "source": [
    "## 1.1 Estas librerías permiten manipular la información y enviar los correos electrónicos con base en la base de datos en csv.\n",
    "import pandas as pd\n",
    "import smtplib, ssl\n",
    "from email.mime.text import MIMEText\n",
    "from email.mime.multipart import MIMEMultipart\n",
    "from email.mime.image import MIMEImage\n",
    "import time"
   ]
  },
  {
   "cell_type": "markdown",
   "metadata": {},
   "source": [
    "## 2. Importar base de datos para combinar datos"
   ]
  },
  {
   "cell_type": "code",
   "execution_count": 23,
   "metadata": {},
   "outputs": [
    {
     "data": {
      "text/html": [
       "<div>\n",
       "<style scoped>\n",
       "    .dataframe tbody tr th:only-of-type {\n",
       "        vertical-align: middle;\n",
       "    }\n",
       "\n",
       "    .dataframe tbody tr th {\n",
       "        vertical-align: top;\n",
       "    }\n",
       "\n",
       "    .dataframe thead th {\n",
       "        text-align: right;\n",
       "    }\n",
       "</style>\n",
       "<table border=\"1\" class=\"dataframe\">\n",
       "  <thead>\n",
       "    <tr style=\"text-align: right;\">\n",
       "      <th></th>\n",
       "      <th>Nombre</th>\n",
       "      <th>Apellidos</th>\n",
       "      <th>Grupo</th>\n",
       "      <th>ID</th>\n",
       "      <th>Usuario</th>\n",
       "      <th>Profesor_de_ingles</th>\n",
       "      <th>correo1</th>\n",
       "      <th>correo2</th>\n",
       "      <th>correo3</th>\n",
       "    </tr>\n",
       "  </thead>\n",
       "  <tbody>\n",
       "    <tr>\n",
       "      <th>320</th>\n",
       "      <td>ALDO IZAIM</td>\n",
       "      <td>VAZQUEZ LEON</td>\n",
       "      <td>3 \"D\"</td>\n",
       "      <td>3807380</td>\n",
       "      <td>ALDO-IZAIMVL</td>\n",
       "      <td>el mtro. Fabián Avendaño Corona</td>\n",
       "      <td>edcoyote16@yahoo.com</td>\n",
       "      <td>edcoyote16@yahoo.com</td>\n",
       "      <td>sin valor</td>\n",
       "    </tr>\n",
       "    <tr>\n",
       "      <th>321</th>\n",
       "      <td>JORGE RODRIGO</td>\n",
       "      <td>VIDRIOS GALARZA</td>\n",
       "      <td>3 \"D\"</td>\n",
       "      <td>4075587</td>\n",
       "      <td>JORGEVG</td>\n",
       "      <td>el mtro. Fabián Avendaño Corona</td>\n",
       "      <td>edcoyote16@yahoo.com</td>\n",
       "      <td>edcoyote16@yahoo.com</td>\n",
       "      <td>sin valor</td>\n",
       "    </tr>\n",
       "    <tr>\n",
       "      <th>322</th>\n",
       "      <td>DAVID LESEM</td>\n",
       "      <td>VILLEGAS PEREZ</td>\n",
       "      <td>3 \"D\"</td>\n",
       "      <td>3807412</td>\n",
       "      <td>DAVID-LESEMVP</td>\n",
       "      <td>el mtro. Fabián Avendaño Corona</td>\n",
       "      <td>edcoyote16@yahoo.com</td>\n",
       "      <td>edcoyote16@yahoo.com</td>\n",
       "      <td>sin valor</td>\n",
       "    </tr>\n",
       "  </tbody>\n",
       "</table>\n",
       "</div>"
      ],
      "text/plain": [
       "            Nombre        Apellidos  Grupo       ID        Usuario  \\\n",
       "320     ALDO IZAIM     VAZQUEZ LEON  3 \"D\"  3807380   ALDO-IZAIMVL   \n",
       "321  JORGE RODRIGO  VIDRIOS GALARZA  3 \"D\"  4075587        JORGEVG   \n",
       "322    DAVID LESEM   VILLEGAS PEREZ  3 \"D\"  3807412  DAVID-LESEMVP   \n",
       "\n",
       "                  Profesor_de_ingles               correo1  \\\n",
       "320  el mtro. Fabián Avendaño Corona  edcoyote16@yahoo.com   \n",
       "321  el mtro. Fabián Avendaño Corona  edcoyote16@yahoo.com   \n",
       "322  el mtro. Fabián Avendaño Corona  edcoyote16@yahoo.com   \n",
       "\n",
       "                  correo2    correo3  \n",
       "320  edcoyote16@yahoo.com  sin valor  \n",
       "321  edcoyote16@yahoo.com  sin valor  \n",
       "322  edcoyote16@yahoo.com  sin valor  "
      ]
     },
     "execution_count": 23,
     "metadata": {},
     "output_type": "execute_result"
    }
   ],
   "source": [
    "## 2.1 Colocar la base de datos en la misma carpeta que el presente archivo. Y actualizar el nombre de la base de datos.\n",
    "informacion=pd.read_csv(\"XXXXXXXXXXX.csv\", encoding= 'latin-1')\n",
    "\n",
    "## 2.2 Los encabezados de la base de datos no deben llevar espacios.\n",
    "informacion.tail(3)"
   ]
  },
  {
   "cell_type": "markdown",
   "metadata": {},
   "source": [
    "## 3. Crear función para que lea la base de datos, inserte la información y envíe los correos a los alumnos."
   ]
  },
  {
   "cell_type": "code",
   "execution_count": 18,
   "metadata": {},
   "outputs": [],
   "source": [
    "## Esta función lee, e inserta en el cuerpo de un mensaje las variables personalizadas por alumno.\n",
    "\n",
    "def enviar_correos_individuales(fila):\n",
    "    ## 3.1 Actualizar las columnas de acuerdo al orden de las columnas\n",
    "    ## comenzando con la primera columna en 0. Estas variables se\n",
    "    ## insertarán en el cuerpo del texto que se enviará.\n",
    "    ## IMPORTANTE: La primera columna es la \"0\" (cero)\n",
    "    nombre = fila[0]\n",
    "    apellidos = fila[1]\n",
    "    grupo = fila[2]\n",
    "    profesor = fila[5]\n",
    "    ID = fila[3]\n",
    "    usuario = fila[4]\n",
    "    correo1 = fila[6]\n",
    "    correo2 = fila[7]\n",
    "    correo3 = fila[8]\n",
    "    \n",
    "    ## 3.2 Agrega los correos que tenga el alumno registrados en la base de datos.\n",
    "    correos=[]\n",
    "    if correo1 != 'sin valor':\n",
    "        correos.append(correo1)\n",
    "    if correo2 != 'sin valor':\n",
    "        correos.append(correo2)\n",
    "    if correo3 != 'sin valor':\n",
    "        correos.append(correo3)\n",
    "    \n",
    "    ## 3.3 Se marca copia a los correos de dirección o a quien corresponda. Nota: no es posible enviar con CC.\n",
    "    correos.append('xxxxx@gmail.com')\n",
    "    correos.append('xxxx@gmail.com')\n",
    "    ## Es importante habilitar la opción de que aplicaciones de terceros controlen la cuenta de gmail.com desde\n",
    "    ## dentro de la cuenta\n",
    "    \n",
    "    ## 3.4 Se establecen los correos de quién envía y quién recibe.\n",
    "    sender_email = \"xxx@gmail.com\"\n",
    "    password = \"xxxxx\"\n",
    "    receiver_email = \", \".join(correos)\n",
    "\n",
    "    ## 3.5 Se indica y se actualiza el tema del correo.\n",
    "    message = MIMEMultipart(\"alternative\")\n",
    "    message[\"Subject\"] = \"Envío de xxxxx\" ## IMPORTANTE: siempre actualizar el tema del correo.\n",
    "    message[\"From\"] = sender_email\n",
    "    message[\"To\"] = receiver_email\n",
    "    \n",
    "    ## 3.6 Se redacta el cuerpo del mensaje. Y se incluyen las variables de la base de datos.\n",
    "    mensaje_en_html = \"\"\"\\\n",
    "    <html>\n",
    "      <body>\n",
    "\n",
    "        <img style=\"display: block; margin-left: auto; margin-right: auto\" \n",
    "        src=\"https://3.files.edl.io/e0c1/18/06/14/134826-2a01bd85-05cd-42ed-bbc6-a366e7e3bdbc.png\" \n",
    "        alt=\"\" width=\"172\" height=\"172\">\n",
    "        <br>\n",
    "        <center><p style=\"color:black;margin:15px 0;font:normal 24px arial, sans-serif;line-height:1.5em;padding:0 70px;\"><b>\n",
    "        Escuela Secundaria \"10 de Diciembre\"<br></b></p></center>\n",
    "        <p style=\"color:black;margin:15px 0;font:normal 18px arial, sans-serif;line-height:1.5em;padding:0 70px;\">\n",
    "        <br>\n",
    "        <br>\n",
    "        Estimado tutor, madre y/o padre de familia de <b>{} {}, {}</b><br>\n",
    "        <br>\n",
    "           Esperando encontrarle con bien, reciba un cordial saludo de la dirección de secundaria \"10 de Diciembre\". \n",
    "           Asimismo por medio de la presente se hace de su conocimiento la siguiente información para el ingreso de {} a la\n",
    "           plataforma UNOi.<br>\n",
    "           <br>\n",
    "           <br>\n",
    "           <b style=\"color: blue;\">&emsp;&emsp;El ID asignado para ingresar a la plataforma de sistema UNOi es {}</b>\n",
    "           <br>\n",
    "           <b style=\"color: blue;\">&emsp;&emsp;El usuario de sistema UNOi es {} </b>\n",
    "           <br>\n",
    "           Solicitamos su valioso apoyo para que su hijo(a) pueda ingresar de forma regular.\n",
    "           <br>\n",
    "           <br>Como siempre, agradecemos su atención y el apoyo brindado a sus hijos.<br>\n",
    "           <br>\n",
    "           Atentamente,<br>\n",
    "           <br>\n",
    "           <br>\n",
    "           <br>\n",
    "           XXXXXXXXXXX<br>\n",
    "           XXXXXXXXXXX\n",
    "        </p>\n",
    "      </body>\n",
    "    </html>\n",
    "    \"\"\".format(nombre,apellidos,grupo,nombre,ID,usuario)\n",
    "    \n",
    "    ## 3.7 Se incluye el mensaje para enviar en los parámetros de la librería.\n",
    "    mensaje = MIMEText(mensaje_en_html, \"html\")\n",
    "    message.attach(mensaje)\n",
    "\n",
    "    # 3.8 Se crea una conexión segura entre el servidor y el cliente.\n",
    "    context = ssl.create_default_context()\n",
    "    with smtplib.SMTP_SSL(\"smtp.gmail.com\", 465, context=context) as server:\n",
    "        server.login(sender_email, password)\n",
    "        server.sendmail(\n",
    "            sender_email, receiver_email, message.as_string())\n",
    "    ## 3.9 Actualizar el tiempo entre envío y envío de correo a 8 segundos.\n",
    "        time.sleep( 6 )\n",
    "    \n",
    "    return grupo, nombre, apellidos, correos"
   ]
  },
  {
   "cell_type": "markdown",
   "metadata": {},
   "source": [
    "## 4. Se envían los correos con base en la base de datos que se importó en el núm. 2"
   ]
  },
  {
   "cell_type": "code",
   "execution_count": 19,
   "metadata": {},
   "outputs": [
    {
     "ename": "KeyboardInterrupt",
     "evalue": "",
     "output_type": "error",
     "traceback": [
      "\u001b[1;31m---------------------------------------------------------------------------\u001b[0m",
      "\u001b[1;31mKeyboardInterrupt\u001b[0m                         Traceback (most recent call last)",
      "\u001b[1;32m<ipython-input-19-cd8d18f468b6>\u001b[0m in \u001b[0;36m<module>\u001b[1;34m\u001b[0m\n\u001b[0;32m      1\u001b[0m \u001b[1;31m## 4.1 Se activa la función sobre la base de datos leyendo fila por fila.\u001b[0m\u001b[1;33m\u001b[0m\u001b[1;33m\u001b[0m\u001b[1;33m\u001b[0m\u001b[0m\n\u001b[1;32m----> 2\u001b[1;33m \u001b[0minformacion\u001b[0m\u001b[1;33m.\u001b[0m\u001b[0mapply\u001b[0m\u001b[1;33m(\u001b[0m\u001b[0menviar_correos_individuales\u001b[0m\u001b[1;33m,\u001b[0m \u001b[0maxis\u001b[0m\u001b[1;33m=\u001b[0m\u001b[1;36m1\u001b[0m\u001b[1;33m)\u001b[0m\u001b[1;33m\u001b[0m\u001b[1;33m\u001b[0m\u001b[0m\n\u001b[0m",
      "\u001b[1;32mC:\\ProgramData\\Anaconda3\\lib\\site-packages\\pandas\\core\\frame.py\u001b[0m in \u001b[0;36mapply\u001b[1;34m(self, func, axis, raw, result_type, args, **kwds)\u001b[0m\n\u001b[0;32m   6876\u001b[0m             \u001b[0mkwds\u001b[0m\u001b[1;33m=\u001b[0m\u001b[0mkwds\u001b[0m\u001b[1;33m,\u001b[0m\u001b[1;33m\u001b[0m\u001b[1;33m\u001b[0m\u001b[0m\n\u001b[0;32m   6877\u001b[0m         )\n\u001b[1;32m-> 6878\u001b[1;33m         \u001b[1;32mreturn\u001b[0m \u001b[0mop\u001b[0m\u001b[1;33m.\u001b[0m\u001b[0mget_result\u001b[0m\u001b[1;33m(\u001b[0m\u001b[1;33m)\u001b[0m\u001b[1;33m\u001b[0m\u001b[1;33m\u001b[0m\u001b[0m\n\u001b[0m\u001b[0;32m   6879\u001b[0m \u001b[1;33m\u001b[0m\u001b[0m\n\u001b[0;32m   6880\u001b[0m     \u001b[1;32mdef\u001b[0m \u001b[0mapplymap\u001b[0m\u001b[1;33m(\u001b[0m\u001b[0mself\u001b[0m\u001b[1;33m,\u001b[0m \u001b[0mfunc\u001b[0m\u001b[1;33m)\u001b[0m \u001b[1;33m->\u001b[0m \u001b[1;34m\"DataFrame\"\u001b[0m\u001b[1;33m:\u001b[0m\u001b[1;33m\u001b[0m\u001b[1;33m\u001b[0m\u001b[0m\n",
      "\u001b[1;32mC:\\ProgramData\\Anaconda3\\lib\\site-packages\\pandas\\core\\apply.py\u001b[0m in \u001b[0;36mget_result\u001b[1;34m(self)\u001b[0m\n\u001b[0;32m    184\u001b[0m             \u001b[1;32mreturn\u001b[0m \u001b[0mself\u001b[0m\u001b[1;33m.\u001b[0m\u001b[0mapply_raw\u001b[0m\u001b[1;33m(\u001b[0m\u001b[1;33m)\u001b[0m\u001b[1;33m\u001b[0m\u001b[1;33m\u001b[0m\u001b[0m\n\u001b[0;32m    185\u001b[0m \u001b[1;33m\u001b[0m\u001b[0m\n\u001b[1;32m--> 186\u001b[1;33m         \u001b[1;32mreturn\u001b[0m \u001b[0mself\u001b[0m\u001b[1;33m.\u001b[0m\u001b[0mapply_standard\u001b[0m\u001b[1;33m(\u001b[0m\u001b[1;33m)\u001b[0m\u001b[1;33m\u001b[0m\u001b[1;33m\u001b[0m\u001b[0m\n\u001b[0m\u001b[0;32m    187\u001b[0m \u001b[1;33m\u001b[0m\u001b[0m\n\u001b[0;32m    188\u001b[0m     \u001b[1;32mdef\u001b[0m \u001b[0mapply_empty_result\u001b[0m\u001b[1;33m(\u001b[0m\u001b[0mself\u001b[0m\u001b[1;33m)\u001b[0m\u001b[1;33m:\u001b[0m\u001b[1;33m\u001b[0m\u001b[1;33m\u001b[0m\u001b[0m\n",
      "\u001b[1;32mC:\\ProgramData\\Anaconda3\\lib\\site-packages\\pandas\\core\\apply.py\u001b[0m in \u001b[0;36mapply_standard\u001b[1;34m(self)\u001b[0m\n\u001b[0;32m    294\u001b[0m             \u001b[1;32mtry\u001b[0m\u001b[1;33m:\u001b[0m\u001b[1;33m\u001b[0m\u001b[1;33m\u001b[0m\u001b[0m\n\u001b[0;32m    295\u001b[0m                 result = libreduction.compute_reduction(\n\u001b[1;32m--> 296\u001b[1;33m                     \u001b[0mvalues\u001b[0m\u001b[1;33m,\u001b[0m \u001b[0mself\u001b[0m\u001b[1;33m.\u001b[0m\u001b[0mf\u001b[0m\u001b[1;33m,\u001b[0m \u001b[0maxis\u001b[0m\u001b[1;33m=\u001b[0m\u001b[0mself\u001b[0m\u001b[1;33m.\u001b[0m\u001b[0maxis\u001b[0m\u001b[1;33m,\u001b[0m \u001b[0mdummy\u001b[0m\u001b[1;33m=\u001b[0m\u001b[0mdummy\u001b[0m\u001b[1;33m,\u001b[0m \u001b[0mlabels\u001b[0m\u001b[1;33m=\u001b[0m\u001b[0mlabels\u001b[0m\u001b[1;33m\u001b[0m\u001b[1;33m\u001b[0m\u001b[0m\n\u001b[0m\u001b[0;32m    297\u001b[0m                 )\n\u001b[0;32m    298\u001b[0m             \u001b[1;32mexcept\u001b[0m \u001b[0mValueError\u001b[0m \u001b[1;32mas\u001b[0m \u001b[0merr\u001b[0m\u001b[1;33m:\u001b[0m\u001b[1;33m\u001b[0m\u001b[1;33m\u001b[0m\u001b[0m\n",
      "\u001b[1;32mpandas\\_libs\\reduction.pyx\u001b[0m in \u001b[0;36mpandas._libs.reduction.compute_reduction\u001b[1;34m()\u001b[0m\n",
      "\u001b[1;32mpandas\\_libs\\reduction.pyx\u001b[0m in \u001b[0;36mpandas._libs.reduction.Reducer.get_result\u001b[1;34m()\u001b[0m\n",
      "\u001b[1;32m<ipython-input-18-44623bd45f1b>\u001b[0m in \u001b[0;36menviar_correos_individuales\u001b[1;34m(fila)\u001b[0m\n\u001b[0;32m     93\u001b[0m             sender_email, receiver_email, message.as_string())\n\u001b[0;32m     94\u001b[0m     \u001b[1;31m## 3.9 Actualizar el tiempo entre envío y envío de correo a 8 segundos.\u001b[0m\u001b[1;33m\u001b[0m\u001b[1;33m\u001b[0m\u001b[1;33m\u001b[0m\u001b[0m\n\u001b[1;32m---> 95\u001b[1;33m         \u001b[0mtime\u001b[0m\u001b[1;33m.\u001b[0m\u001b[0msleep\u001b[0m\u001b[1;33m(\u001b[0m \u001b[1;36m6\u001b[0m \u001b[1;33m)\u001b[0m\u001b[1;33m\u001b[0m\u001b[1;33m\u001b[0m\u001b[0m\n\u001b[0m\u001b[0;32m     96\u001b[0m \u001b[1;33m\u001b[0m\u001b[0m\n\u001b[0;32m     97\u001b[0m     \u001b[1;32mreturn\u001b[0m \u001b[0mgrupo\u001b[0m\u001b[1;33m,\u001b[0m \u001b[0mnombre\u001b[0m\u001b[1;33m,\u001b[0m \u001b[0mapellidos\u001b[0m\u001b[1;33m,\u001b[0m \u001b[0mcorreos\u001b[0m\u001b[1;33m\u001b[0m\u001b[1;33m\u001b[0m\u001b[0m\n",
      "\u001b[1;31mKeyboardInterrupt\u001b[0m: "
     ]
    }
   ],
   "source": [
    "## 4.1 Se activa la función sobre la base de datos leyendo fila por fila.\n",
    "informacion.apply(enviar_correos_individuales, axis=1)"
   ]
  },
  {
   "cell_type": "code",
   "execution_count": 15,
   "metadata": {},
   "outputs": [
    {
     "data": {
      "text/plain": [
       "32.5"
      ]
     },
     "execution_count": 15,
     "metadata": {},
     "output_type": "execute_result"
    }
   ],
   "source": [
    "(6*325)/60"
   ]
  },
  {
   "cell_type": "code",
   "execution_count": null,
   "metadata": {},
   "outputs": [],
   "source": []
  }
 ],
 "metadata": {
  "kernelspec": {
   "display_name": "Python 3",
   "language": "python",
   "name": "python3"
  },
  "language_info": {
   "codemirror_mode": {
    "name": "ipython",
    "version": 3
   },
   "file_extension": ".py",
   "mimetype": "text/x-python",
   "name": "python",
   "nbconvert_exporter": "python",
   "pygments_lexer": "ipython3",
   "version": "3.7.6"
  }
 },
 "nbformat": 4,
 "nbformat_minor": 4
}
