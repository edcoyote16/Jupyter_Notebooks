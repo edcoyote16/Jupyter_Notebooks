{
 "cells": [
  {
   "cell_type": "markdown",
   "metadata": {},
   "source": [
    "## Using regular expressions\n"
   ]
  },
  {
   "cell_type": "markdown",
   "metadata": {},
   "source": [
    "## Reading text"
   ]
  },
  {
   "cell_type": "code",
   "execution_count": 34,
   "metadata": {},
   "outputs": [],
   "source": [
    "text=\"1 111103982 MONTOYA OLVERA FERNANDA DANAE SEC S1B 22/08/2020 2 201400019 LOPEZ SANCHEZ CAMILA IVANNA SEC S1C 24/08/2020 3 101102556 PEÑA OROPEZA GUSTAVO ENRIQUE SEC S1D 25/08/2020 4 142100183 AVENDAÑO MATURANO YENI SEC S2A 13/08/2020 5 201400017 BALLESTEROS PAULINO XITHLALY SEC S2A 06/08/2020 6 101103091 CONTRERAS CAMACHO ABRAHAM ARMANDO SEC S2B 18/08/2020 7 181300054 JIMENEZ LUGO SEBASTIAN SEC S2B 19/08/2020 8 131201782 GARCIA GOMEZ ALMA NELLY SEC S2C 25/08/2020 9 090100373 FRANCO PEÑA AVRIL GABRIELA SEC S3A 12/08/2020 10 201400020 LOPEZ SANCHEZ FRIDA VALERIA SEC S3A 24/08/2020 11 142100236 JIMENEZ PEÑA JAZMIN ARELY SEC S3B 12/08/2020 12 171300038 CERON AGUILAR YOALY ESTEFANIA SEC S3C 19/08/2020 13 201400018 FLORES ESCOBAR JOSE LINO SEC S3C 19/08/2020 14 181400010 OLGUIN SANCHEZ OSCAR YAEL SEC S3C 18/08/2020 15 090101561 REYES CERVANTES CARLOS EMILIANO SEC S3C 21/08/2020 16 181400022 SANCHEZ TAPIA BARBARA SEC S3C 17/08/2020\""
   ]
  },
  {
   "cell_type": "markdown",
   "metadata": {},
   "source": [
    "## Importing module Regex and pattern to look for"
   ]
  },
  {
   "cell_type": "code",
   "execution_count": 47,
   "metadata": {},
   "outputs": [
    {
     "name": "stdout",
     "output_type": "stream",
     "text": [
      "[('MONTOYA OLVERA FERNANDA DANAE', 'S1B'), ('LOPEZ SANCHEZ CAMILA IVANNA', 'S1C'), ('PEÑA OROPEZA GUSTAVO ENRIQUE', 'S1D'), ('AVENDAÑO MATURANO YENI', 'S2A'), ('BALLESTEROS PAULINO XITHLALY', 'S2A'), ('CONTRERAS CAMACHO ABRAHAM ARMANDO', 'S2B'), ('JIMENEZ LUGO SEBASTIAN', 'S2B'), ('GARCIA GOMEZ ALMA NELLY', 'S2C'), ('FRANCO PEÑA AVRIL GABRIELA', 'S3A'), ('LOPEZ SANCHEZ FRIDA VALERIA', 'S3A'), ('JIMENEZ PEÑA JAZMIN ARELY', 'S3B'), ('CERON AGUILAR YOALY ESTEFANIA', 'S3C'), ('FLORES ESCOBAR JOSE LINO', 'S3C'), ('OLGUIN SANCHEZ OSCAR YAEL', 'S3C'), ('REYES CERVANTES CARLOS EMILIANO', 'S3C'), ('SANCHEZ TAPIA BARBARA', 'S3C')]\n"
     ]
    }
   ],
   "source": [
    "import re\n",
    "\n",
    "#pattern=\"(<.*?>)(.*)(<.*?>)\"\n",
    "pattern=\"(?:\\d{9})\\s(.*?)\\s(?:SEC)\\s(.{3})\"\n",
    "g=re.findall(pattern,text)\n",
    "print(g)"
   ]
  },
  {
   "cell_type": "markdown",
   "metadata": {},
   "source": [
    "## Looping through results and making a list (through list comprehension)"
   ]
  },
  {
   "cell_type": "code",
   "execution_count": 49,
   "metadata": {},
   "outputs": [],
   "source": [
    "chicos=[n for n in g]"
   ]
  },
  {
   "cell_type": "code",
   "execution_count": 52,
   "metadata": {},
   "outputs": [
    {
     "data": {
      "text/html": [
       "<div>\n",
       "<style scoped>\n",
       "    .dataframe tbody tr th:only-of-type {\n",
       "        vertical-align: middle;\n",
       "    }\n",
       "\n",
       "    .dataframe tbody tr th {\n",
       "        vertical-align: top;\n",
       "    }\n",
       "\n",
       "    .dataframe thead th {\n",
       "        text-align: right;\n",
       "    }\n",
       "</style>\n",
       "<table border=\"1\" class=\"dataframe\">\n",
       "  <thead>\n",
       "    <tr style=\"text-align: right;\">\n",
       "      <th></th>\n",
       "      <th>emails</th>\n",
       "      <th>uu</th>\n",
       "    </tr>\n",
       "  </thead>\n",
       "  <tbody>\n",
       "    <tr>\n",
       "      <th>0</th>\n",
       "      <td>MONTOYA OLVERA FERNANDA DANAE</td>\n",
       "      <td>S1B</td>\n",
       "    </tr>\n",
       "    <tr>\n",
       "      <th>1</th>\n",
       "      <td>LOPEZ SANCHEZ CAMILA IVANNA</td>\n",
       "      <td>S1C</td>\n",
       "    </tr>\n",
       "    <tr>\n",
       "      <th>2</th>\n",
       "      <td>PEÑA OROPEZA GUSTAVO ENRIQUE</td>\n",
       "      <td>S1D</td>\n",
       "    </tr>\n",
       "    <tr>\n",
       "      <th>3</th>\n",
       "      <td>AVENDAÑO MATURANO YENI</td>\n",
       "      <td>S2A</td>\n",
       "    </tr>\n",
       "    <tr>\n",
       "      <th>4</th>\n",
       "      <td>BALLESTEROS PAULINO XITHLALY</td>\n",
       "      <td>S2A</td>\n",
       "    </tr>\n",
       "    <tr>\n",
       "      <th>5</th>\n",
       "      <td>CONTRERAS CAMACHO ABRAHAM ARMANDO</td>\n",
       "      <td>S2B</td>\n",
       "    </tr>\n",
       "    <tr>\n",
       "      <th>6</th>\n",
       "      <td>JIMENEZ LUGO SEBASTIAN</td>\n",
       "      <td>S2B</td>\n",
       "    </tr>\n",
       "    <tr>\n",
       "      <th>7</th>\n",
       "      <td>GARCIA GOMEZ ALMA NELLY</td>\n",
       "      <td>S2C</td>\n",
       "    </tr>\n",
       "    <tr>\n",
       "      <th>8</th>\n",
       "      <td>FRANCO PEÑA AVRIL GABRIELA</td>\n",
       "      <td>S3A</td>\n",
       "    </tr>\n",
       "    <tr>\n",
       "      <th>9</th>\n",
       "      <td>LOPEZ SANCHEZ FRIDA VALERIA</td>\n",
       "      <td>S3A</td>\n",
       "    </tr>\n",
       "    <tr>\n",
       "      <th>10</th>\n",
       "      <td>JIMENEZ PEÑA JAZMIN ARELY</td>\n",
       "      <td>S3B</td>\n",
       "    </tr>\n",
       "    <tr>\n",
       "      <th>11</th>\n",
       "      <td>CERON AGUILAR YOALY ESTEFANIA</td>\n",
       "      <td>S3C</td>\n",
       "    </tr>\n",
       "    <tr>\n",
       "      <th>12</th>\n",
       "      <td>FLORES ESCOBAR JOSE LINO</td>\n",
       "      <td>S3C</td>\n",
       "    </tr>\n",
       "    <tr>\n",
       "      <th>13</th>\n",
       "      <td>OLGUIN SANCHEZ OSCAR YAEL</td>\n",
       "      <td>S3C</td>\n",
       "    </tr>\n",
       "    <tr>\n",
       "      <th>14</th>\n",
       "      <td>REYES CERVANTES CARLOS EMILIANO</td>\n",
       "      <td>S3C</td>\n",
       "    </tr>\n",
       "    <tr>\n",
       "      <th>15</th>\n",
       "      <td>SANCHEZ TAPIA BARBARA</td>\n",
       "      <td>S3C</td>\n",
       "    </tr>\n",
       "  </tbody>\n",
       "</table>\n",
       "</div>"
      ],
      "text/plain": [
       "                               emails   uu\n",
       "0       MONTOYA OLVERA FERNANDA DANAE  S1B\n",
       "1         LOPEZ SANCHEZ CAMILA IVANNA  S1C\n",
       "2        PEÑA OROPEZA GUSTAVO ENRIQUE  S1D\n",
       "3              AVENDAÑO MATURANO YENI  S2A\n",
       "4        BALLESTEROS PAULINO XITHLALY  S2A\n",
       "5   CONTRERAS CAMACHO ABRAHAM ARMANDO  S2B\n",
       "6              JIMENEZ LUGO SEBASTIAN  S2B\n",
       "7             GARCIA GOMEZ ALMA NELLY  S2C\n",
       "8          FRANCO PEÑA AVRIL GABRIELA  S3A\n",
       "9         LOPEZ SANCHEZ FRIDA VALERIA  S3A\n",
       "10          JIMENEZ PEÑA JAZMIN ARELY  S3B\n",
       "11      CERON AGUILAR YOALY ESTEFANIA  S3C\n",
       "12           FLORES ESCOBAR JOSE LINO  S3C\n",
       "13          OLGUIN SANCHEZ OSCAR YAEL  S3C\n",
       "14    REYES CERVANTES CARLOS EMILIANO  S3C\n",
       "15              SANCHEZ TAPIA BARBARA  S3C"
      ]
     },
     "execution_count": 52,
     "metadata": {},
     "output_type": "execute_result"
    }
   ],
   "source": [
    "df = pd.DataFrame(chicos,columns=['emails','uu'])\n",
    "df\n"
   ]
  },
  {
   "cell_type": "markdown",
   "metadata": {},
   "source": [
    "## Exporting results"
   ]
  },
  {
   "cell_type": "code",
   "execution_count": null,
   "metadata": {},
   "outputs": [],
   "source": [
    "df.to_csv(\"chicosinscritos.csv\",encoding='latin')"
   ]
  }
 ],
 "metadata": {
  "kernelspec": {
   "display_name": "Python 3",
   "language": "python",
   "name": "python3"
  },
  "language_info": {
   "codemirror_mode": {
    "name": "ipython",
    "version": 3
   },
   "file_extension": ".py",
   "mimetype": "text/x-python",
   "name": "python",
   "nbconvert_exporter": "python",
   "pygments_lexer": "ipython3",
   "version": "3.7.6"
  }
 },
 "nbformat": 4,
 "nbformat_minor": 4
}
