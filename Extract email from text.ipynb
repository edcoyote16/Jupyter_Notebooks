{
 "cells": [
  {
   "cell_type": "markdown",
   "metadata": {},
   "source": [
    "## Using regular expressions\n"
   ]
  },
  {
   "cell_type": "markdown",
   "metadata": {},
   "source": [
    "## Reading text"
   ]
  },
  {
   "cell_type": "code",
   "execution_count": 47,
   "metadata": {},
   "outputs": [],
   "source": [
    "text=\"\"\" \"ma.acastenco@gmail.com\" <ma.acastenco@gmail.com>; \"melbaguilaruiz@gmail.com\" <melbaguilaruiz@gmail.com>; \"ely4emy@gmail.com\" <ely4emy@gmail.com>; \"yanel.anota92@gmail.com\" <yanel.anota92@gmail.com>; \"frank19961@hotmail.com\" <frank19961@hotmail.com>; \"miguel.arceort@gmail.com\" <miguel.arceort@gmail.com>; \"jc.arriolajimenez@gmail.com\" <jc.arriolajimenez@gmail.com>; \"gerardobaron@yahoo.com\" <gerardobaron@yahoo.com>; \"zurdo1981@gmail.com\" <zurdo1981@gmail.com>; \"profilaxis@gmail.com\" <profilaxis@gmail.com>; \"irisblanram@yahoo.com.mx\" <irisblanram@yahoo.com.mx>; \"burgosdianaeli@gmail.com\" <burgosdianaeli@gmail.com>; \"es.carbajalm@gmail.com\" <es.carbajalm@gmail.com>; \"fabiolacarrilloduran@gmail.com\" <fabiolacarrilloduran@gmail.com>; \"mariane00@ciencias.unam.mx\" <mariane00@ciencias.unam.mx>; \"jmanuelchavezvelez@gmail.com\" <jmanuelchavezvelez@gmail.com>; \"albasenneth@gmail.com\" <albasenneth@gmail.com>; \"cotmaribel@gmail.com\" <cotmaribel@gmail.com>; \"coria_gonzalez_victor_hugo@hotmail.com\" <coria_gonzalez_victor_hugo@hotmail.com>; \"lmatematicoac@gmail.com\" <lmatematicoac@gmail.com>; \"williamcruz@ciencias.unam.mx\" <williamcruz@ciencias.unam.mx>; \"delira6@yahoo.com.mx\" <delira6@yahoo.com.mx>; \"diazalili@gmail.com\" <diazalili@gmail.com>; \"jesus011@gmail.com\" <jesus011@gmail.com>; \"armandodiaz_fisica@ciencias.unam.mx\" <armandodiaz_fisica@ciencias.unam.mx>; \"celesdiaz@yahoo.com.mx\" <celesdiaz@yahoo.com.mx>; \"maryetadh@hotmail.com\" <maryetadh@hotmail.com>; \"hareli01@gmail.com\" <hareli01@gmail.com>; \"hfelizola@gmail.com\" <hfelizola@gmail.com>; \"betkart17@gmail.com\" <betkart17@gmail.com>; \"ormales@hotmail.com\" <ormales@hotmail.com>; \"galvan_christian@hotmail.com\" <galvan_christian@hotmail.com>; \"duran.pamelab@gmail.com\" <duran.pamelab@gmail.com>; \"fabys.v@hotmail.com\" <fabys.v@hotmail.com>; \"landverde@hotmail.com\" <landverde@hotmail.com>; \"progressiveuniversalpoesie@gmail.com\" <progressiveuniversalpoesie@gmail.com>; \"fernando.g@ciencias.unam.mx\" <fernando.g@ciencias.unam.mx>; \"garcia.rivero.joel@gmail.com\" <garcia.rivero.joel@gmail.com>; \"dogasaliz@yahoo.com\" <dogasaliz@yahoo.com>; \"moikashot@gmail.com\" <moikashot@gmail.com>; \"janetglafiragt@gmail.com\" <janetglafiragt@gmail.com>; \"sandraglz17@gmail.com\" <sandraglz17@gmail.com>; \"csbelmont@comunidad.unam.mx\" <csbelmont@comunidad.unam.mx>; \"laggy2881@gmail.com\" <laggy2881@gmail.com>; \"lili.juarez.ts@hotmail.com\" <lili.juarez.ts@hotmail.com>; \"jleonelmarquez@yahoo.co.uk\" <jleonelmarquez@yahoo.co.uk>; \"claraglez7@gmail.com\" <claraglez7@gmail.com>; \"marigonz@ciencias.unam.mx\" <marigonz@ciencias.unam.mx>; \"nahui08@hotmail.com\" <nahui08@hotmail.com>; \"alejandragtz26@gmail.com\" <alejandragtz26@gmail.com>; \"ximenagtt@gmail.com\" <ximenagtt@gmail.com>; \"claudiaehb@yahoo.com.mx\" <claudiaehb@yahoo.com.mx>; \"edcoyote16@yahoo.com\" <edcoyote16@yahoo.com>; \"lucia.selene.1@gmail.com\" <lucia.selene.1@gmail.com>; \"crishmar16@gmail.com\" <crishmar16@gmail.com>; \"germanhernandez.unam@gmail.com\" <germanhernandez.unam@gmail.com>; \"glcnhzms@hotmail.com\" <glcnhzms@hotmail.com>; \"atzielperea@gmail.com\" <atzielperea@gmail.com>; \"nayelihernandezamudio@gmail.com\" <nayelihernandezamudio@gmail.com>; \"iqm.hidalgojuarez@gmail.com\" <iqm.hidalgojuarez@gmail.com>; \"yjocelinhuerta@yahoo.com\" <yjocelinhuerta@yahoo.com>; \"jerry.dammers@hotmail.com\" <jerry.dammers@hotmail.com>; \"anna7kunst@gmail.com\" <anna7kunst@gmail.com>; \"leonvaldez1990@gmail.com\" <leonvaldez1990@gmail.com>; \"lomeli.lab@gmail.com\" <lomeli.lab@gmail.com>; \"edithadriana.lopez@bachilleres.edu.mx\" <edithadriana.lopez@bachilleres.edu.mx>; \"joselo.lopez1123@gmail.com\" <joselo.lopez1123@gmail.com>; \"mary87lr@gmail.com\" <mary87lr@gmail.com>; \"fercci@ciencias.unam.mx\" <fercci@ciencias.unam.mx>; \"fernando.lugo.d@gmail.com\" <fernando.lugo.d@gmail.com>; \"monica.isabel.luca@gmail.com\" <monica.isabel.luca@gmail.com>; \"xne9999@hotmail.com\" <xne9999@hotmail.com>; \"marquezmaryol@yahoo.com.mx\" <marquezmaryol@yahoo.com.mx>; \"lic.violeta.marquez@gmail.com\" <lic.violeta.marquez@gmail.com>; \"martinez.jehu@yahoo.com.mx\" <martinez.jehu@yahoo.com.mx>; \"thiacyn_8@hotmail.com\" <thiacyn_8@hotmail.com>; \"graciela.maya@dgenp.unam.mx\" <graciela.maya@dgenp.unam.mx>; \"psicologomedellin@gmail.com\" <psicologomedellin@gmail.com>; \"gabo_v@hotmail.com\" <gabo_v@hotmail.com>; \"fanniux12@ciencias.unam.mx\" <fanniux12@ciencias.unam.mx>; \"ana.vmt.18@gmail.com\" <ana.vmt.18@gmail.com>; \"lorraine@ciencias.unam.mx\" <lorraine@ciencias.unam.mx>; \"yaisameza@gmail.com\" <yaisameza@gmail.com>; \"mmr1977@gmail.com\" <mmr1977@gmail.com>; \"d.monroy.santiago@gmail.com\" <d.monroy.santiago@gmail.com>; \"martinmonterrosa@hotmail.com\" <martinmonterrosa@hotmail.com>; \"nightimares_hell@hotmail.com\" <nightimares_hell@hotmail.com>; \"josedasein@gmail.com\" <josedasein@gmail.com>; \"nmoreno@silodisa.com.mx\" <nmoreno@silodisa.com.mx>; \"anava@ciencias.unam.mx\" <anava@ciencias.unam.mx>; \"pablonava_117@hotmail.com\" <pablonava_117@hotmail.com>; \"anana9306@gmail.com\" <anana9306@gmail.com>; \"stephanie.navarrete@enp.unam.mx\" <stephanie.navarrete@enp.unam.mx>; \"dieg8jeda@gmail.com\" <dieg8jeda@gmail.com>; \"raulolvera68@yahoo.com.mx\" <raulolvera68@yahoo.com.mx>; \"lilianaolvera.unam@gmail.com\" <lilianaolvera.unam@gmail.com>; \"fannyoros.23@hotmail.com\" <fannyoros.23@hotmail.com>; \"revolver_jc@yahoo.com.mx\" <revolver_jc@yahoo.com.mx>; \"arturortizu@hotmail.com\" <arturortizu@hotmail.com>; \"malu.malu@live.com.mx\" <malu.malu@live.com.mx>; \"draw7carts@yahoo.com.mx\" <draw7carts@yahoo.com.mx>; \"ludmila@ciencias.unam.mx\" <ludmila@ciencias.unam.mx>; \"lizpaulinz@hotmail.com\" <lizpaulinz@hotmail.com>; \"marynirt@hotmail.com\" <marynirt@hotmail.com>; \"oscar.epg1@gmail.com\" <oscar.epg1@gmail.com>; \"sarympn2810@gmail.com\" <sarympn2810@gmail.com>; \"teatrofiloso@yahoo.com.mx\" <teatrofiloso@yahoo.com.mx>; \"airegl@hotmail.com\" <airegl@hotmail.com>; \"spml_14@hotmail.com\" <spml_14@hotmail.com>; \"brendapintled@gmail.com\" <brendapintled@gmail.com>; \"trascuachu@gmail.com\" <trascuachu@gmail.com>; \"elizabethpors@gmail.com\" <elizabethpors@gmail.com>; \"marragom@gmail.com\" <marragom@gmail.com>; \"copihue.moctezuma@gmail.com\" <copihue.moctezuma@gmail.com>; \"jojumara@hotmail.com\" <jojumara@hotmail.com>; \"maraes812@hotmail.com\" <maraes812@hotmail.com>; \"rebetezrenata@yahoo.com\" <rebetezrenata@yahoo.com>; \"juandediosd@hotmail.com\" <juandediosd@hotmail.com>; \"freyesju@gmail.com\" <freyesju@gmail.com>; \"dalid.rito@ciencias.unam.mx\" <dalid.rito@ciencias.unam.mx>; \"filologus_rodrigo@hotmail.com\" <filologus_rodrigo@hotmail.com>; \"k_arinn_a@hotmail.com\" <k_arinn_a@hotmail.com>; \"iveth_91_@hotmail.com\" <iveth_91_@hotmail.com>; \"jaimejavierbravo@gmail.com\" <jaimejavierbravo@gmail.com>; \"quetzs@gmail.com\" <quetzs@gmail.com>; \"yael.nrl@gmail.com\" <yael.nrl@gmail.com>; \"omar_rosen@hotmail.com\" <omar_rosen@hotmail.com>; \"sommelierleticiaruiz@gmail.com\" <sommelierleticiaruiz@gmail.com>; \"amy_drm@yahoo.com.mx\" <amy_drm@yahoo.com.mx>; \"brenda_saavedra@ciencias.unam.mx\" <brenda_saavedra@ciencias.unam.mx>; \"gysa.asyg@gmail.com\" <gysa.asyg@gmail.com>; \"24aguila@gmail.com\" <24aguila@gmail.com>; \"evelynsanchezgarcia@outlook.com\" <evelynsanchezgarcia@outlook.com>; \"danirb0327@gmail.com\" <danirb0327@gmail.com>; \"sjosefina94@yahoo.com.mx\" <sjosefina94@yahoo.com.mx>; \"rafaelito@ciencias.unam.mx\" <rafaelito@ciencias.unam.mx>; \"oskar19116@hotmail.com\" <oskar19116@hotmail.com>; \"sara.soto@enp.unam.mx\" <sara.soto@enp.unam.mx>; \"jlcureboy@gmail.com\" <jlcureboy@gmail.com>; \"biol.torres@hotmail.com\" <biol.torres@hotmail.com>; \"ct.clorofila@gmail.com\" <ct.clorofila@gmail.com>; \"juan.ugalde@outlook.com\" <juan.ugalde@outlook.com>; \"yani12ne@gmail.com\" <yani12ne@gmail.com>; \"corona@ciencias.unam.mx\" <corona@ciencias.unam.mx>; \"angie.ramirez254@hotmail.com\" <angie.ramirez254@hotmail.com>; \"ale130302@yahoo.com.mx\" <ale130302@yahoo.com.mx>; \"lic.noemivega@gmail.com\" <lic.noemivega@gmail.com>; \"lilianazvm@gmail.com\" <lilianazvm@gmail.com>; \"ivett_v2@hotmail.com\" <ivett_v2@hotmail.com>; \"cecividana@gmail.com\" <cecividana@gmail.com>; \"claviey@yahoo.com\" <claviey@yahoo.com>; \"armandovire-09@hotmail.com\" <armandovire-09@hotmail.com>; \"oscarvite@hotmail.com\" <oscarvite@hotmail.com> \"\"\""
   ]
  },
  {
   "cell_type": "markdown",
   "metadata": {},
   "source": [
    "## Importing module Regex and setting pattern to look for"
   ]
  },
  {
   "cell_type": "code",
   "execution_count": 54,
   "metadata": {
    "collapsed": true
   },
   "outputs": [
    {
     "name": "stdout",
     "output_type": "stream",
     "text": [
      "[('<', 'ma.acastenco@gmail.com', '>'), ('<', 'melbaguilaruiz@gmail.com', '>'), ('<', 'ely4emy@gmail.com', '>'), ('<', 'yanel.anota92@gmail.com', '>'), ('<', 'frank19961@hotmail.com', '>'), ('<', 'miguel.arceort@gmail.com', '>'), ('<', 'jc.arriolajimenez@gmail.com', '>'), ('<', 'gerardobaron@yahoo.com', '>'), ('<', 'zurdo1981@gmail.com', '>'), ('<', 'profilaxis@gmail.com', '>'), ('<', 'irisblanram@yahoo.com.mx', '>'), ('<', 'burgosdianaeli@gmail.com', '>'), ('<', 'es.carbajalm@gmail.com', '>'), ('<', 'fabiolacarrilloduran@gmail.com', '>'), ('<', 'mariane00@ciencias.unam.mx', '>'), ('<', 'jmanuelchavezvelez@gmail.com', '>'), ('<', 'albasenneth@gmail.com', '>'), ('<', 'cotmaribel@gmail.com', '>'), ('<', 'coria_gonzalez_victor_hugo@hotmail.com', '>'), ('<', 'lmatematicoac@gmail.com', '>'), ('<', 'williamcruz@ciencias.unam.mx', '>'), ('<', 'delira6@yahoo.com.mx', '>'), ('<', 'diazalili@gmail.com', '>'), ('<', 'jesus011@gmail.com', '>'), ('<', 'armandodiaz_fisica@ciencias.unam.mx', '>'), ('<', 'celesdiaz@yahoo.com.mx', '>'), ('<', 'maryetadh@hotmail.com', '>'), ('<', 'hareli01@gmail.com', '>'), ('<', 'hfelizola@gmail.com', '>'), ('<', 'betkart17@gmail.com', '>'), ('<', 'ormales@hotmail.com', '>'), ('<', 'galvan_christian@hotmail.com', '>'), ('<', 'duran.pamelab@gmail.com', '>'), ('<', 'fabys.v@hotmail.com', '>'), ('<', 'landverde@hotmail.com', '>'), ('<', 'progressiveuniversalpoesie@gmail.com', '>'), ('<', 'fernando.g@ciencias.unam.mx', '>'), ('<', 'garcia.rivero.joel@gmail.com', '>'), ('<', 'dogasaliz@yahoo.com', '>'), ('<', 'moikashot@gmail.com', '>'), ('<', 'janetglafiragt@gmail.com', '>'), ('<', 'sandraglz17@gmail.com', '>'), ('<', 'csbelmont@comunidad.unam.mx', '>'), ('<', 'laggy2881@gmail.com', '>'), ('<', 'lili.juarez.ts@hotmail.com', '>'), ('<', 'jleonelmarquez@yahoo.co.uk', '>'), ('<', 'claraglez7@gmail.com', '>'), ('<', 'marigonz@ciencias.unam.mx', '>'), ('<', 'nahui08@hotmail.com', '>'), ('<', 'alejandragtz26@gmail.com', '>'), ('<', 'ximenagtt@gmail.com', '>'), ('<', 'claudiaehb@yahoo.com.mx', '>'), ('<', 'edcoyote16@yahoo.com', '>'), ('<', 'lucia.selene.1@gmail.com', '>'), ('<', 'crishmar16@gmail.com', '>'), ('<', 'germanhernandez.unam@gmail.com', '>'), ('<', 'glcnhzms@hotmail.com', '>'), ('<', 'atzielperea@gmail.com', '>'), ('<', 'nayelihernandezamudio@gmail.com', '>'), ('<', 'iqm.hidalgojuarez@gmail.com', '>'), ('<', 'yjocelinhuerta@yahoo.com', '>'), ('<', 'jerry.dammers@hotmail.com', '>'), ('<', 'anna7kunst@gmail.com', '>'), ('<', 'leonvaldez1990@gmail.com', '>'), ('<', 'lomeli.lab@gmail.com', '>'), ('<', 'edithadriana.lopez@bachilleres.edu.mx', '>'), ('<', 'joselo.lopez1123@gmail.com', '>'), ('<', 'mary87lr@gmail.com', '>'), ('<', 'fercci@ciencias.unam.mx', '>'), ('<', 'fernando.lugo.d@gmail.com', '>'), ('<', 'monica.isabel.luca@gmail.com', '>'), ('<', 'xne9999@hotmail.com', '>'), ('<', 'marquezmaryol@yahoo.com.mx', '>'), ('<', 'lic.violeta.marquez@gmail.com', '>'), ('<', 'martinez.jehu@yahoo.com.mx', '>'), ('<', 'thiacyn_8@hotmail.com', '>'), ('<', 'graciela.maya@dgenp.unam.mx', '>'), ('<', 'psicologomedellin@gmail.com', '>'), ('<', 'gabo_v@hotmail.com', '>'), ('<', 'fanniux12@ciencias.unam.mx', '>'), ('<', 'ana.vmt.18@gmail.com', '>'), ('<', 'lorraine@ciencias.unam.mx', '>'), ('<', 'yaisameza@gmail.com', '>'), ('<', 'mmr1977@gmail.com', '>'), ('<', 'd.monroy.santiago@gmail.com', '>'), ('<', 'martinmonterrosa@hotmail.com', '>'), ('<', 'nightimares_hell@hotmail.com', '>'), ('<', 'josedasein@gmail.com', '>'), ('<', 'nmoreno@silodisa.com.mx', '>'), ('<', 'anava@ciencias.unam.mx', '>'), ('<', 'pablonava_117@hotmail.com', '>'), ('<', 'anana9306@gmail.com', '>'), ('<', 'stephanie.navarrete@enp.unam.mx', '>'), ('<', 'dieg8jeda@gmail.com', '>'), ('<', 'raulolvera68@yahoo.com.mx', '>'), ('<', 'lilianaolvera.unam@gmail.com', '>'), ('<', 'fannyoros.23@hotmail.com', '>'), ('<', 'revolver_jc@yahoo.com.mx', '>'), ('<', 'arturortizu@hotmail.com', '>'), ('<', 'malu.malu@live.com.mx', '>'), ('<', 'draw7carts@yahoo.com.mx', '>'), ('<', 'ludmila@ciencias.unam.mx', '>'), ('<', 'lizpaulinz@hotmail.com', '>'), ('<', 'marynirt@hotmail.com', '>'), ('<', 'oscar.epg1@gmail.com', '>'), ('<', 'sarympn2810@gmail.com', '>'), ('<', 'teatrofiloso@yahoo.com.mx', '>'), ('<', 'airegl@hotmail.com', '>'), ('<', 'spml_14@hotmail.com', '>'), ('<', 'brendapintled@gmail.com', '>'), ('<', 'trascuachu@gmail.com', '>'), ('<', 'elizabethpors@gmail.com', '>'), ('<', 'marragom@gmail.com', '>'), ('<', 'copihue.moctezuma@gmail.com', '>'), ('<', 'jojumara@hotmail.com', '>'), ('<', 'maraes812@hotmail.com', '>'), ('<', 'rebetezrenata@yahoo.com', '>'), ('<', 'juandediosd@hotmail.com', '>'), ('<', 'freyesju@gmail.com', '>'), ('<', 'dalid.rito@ciencias.unam.mx', '>'), ('<', 'filologus_rodrigo@hotmail.com', '>'), ('<', 'k_arinn_a@hotmail.com', '>'), ('<', 'iveth_91_@hotmail.com', '>'), ('<', 'jaimejavierbravo@gmail.com', '>'), ('<', 'quetzs@gmail.com', '>'), ('<', 'yael.nrl@gmail.com', '>'), ('<', 'omar_rosen@hotmail.com', '>'), ('<', 'sommelierleticiaruiz@gmail.com', '>'), ('<', 'amy_drm@yahoo.com.mx', '>'), ('<', 'brenda_saavedra@ciencias.unam.mx', '>'), ('<', 'gysa.asyg@gmail.com', '>'), ('<', '24aguila@gmail.com', '>'), ('<', 'evelynsanchezgarcia@outlook.com', '>'), ('<', 'danirb0327@gmail.com', '>'), ('<', 'sjosefina94@yahoo.com.mx', '>'), ('<', 'rafaelito@ciencias.unam.mx', '>'), ('<', 'oskar19116@hotmail.com', '>'), ('<', 'sara.soto@enp.unam.mx', '>'), ('<', 'jlcureboy@gmail.com', '>'), ('<', 'biol.torres@hotmail.com', '>'), ('<', 'ct.clorofila@gmail.com', '>'), ('<', 'juan.ugalde@outlook.com', '>'), ('<', 'yani12ne@gmail.com', '>'), ('<', 'corona@ciencias.unam.mx', '>'), ('<', 'angie.ramirez254@hotmail.com', '>'), ('<', 'ale130302@yahoo.com.mx', '>'), ('<', 'lic.noemivega@gmail.com', '>'), ('<', 'lilianazvm@gmail.com', '>'), ('<', 'ivett_v2@hotmail.com', '>'), ('<', 'cecividana@gmail.com', '>'), ('<', 'claviey@yahoo.com', '>'), ('<', 'armandovire-09@hotmail.com', '>'), ('<', 'oscarvite@hotmail.com', '>')]\n"
     ]
    }
   ],
   "source": [
    "import pandas as pd\n",
    "import re\n",
    "\n",
    "#pattern=\"(<.*?>)(.*)(<.*?>)\"\n",
    "pattern=\"(<)(.*?)(>)\"\n",
    "g=re.findall(pattern,text)\n",
    "print(g)"
   ]
  },
  {
   "cell_type": "markdown",
   "metadata": {},
   "source": [
    "## Looping through the results"
   ]
  },
  {
   "cell_type": "code",
   "execution_count": 55,
   "metadata": {},
   "outputs": [],
   "source": [
    "correos=[n[1] for n in g]"
   ]
  },
  {
   "cell_type": "markdown",
   "metadata": {},
   "source": [
    "## Converting results into Dataframe"
   ]
  },
  {
   "cell_type": "code",
   "execution_count": 57,
   "metadata": {},
   "outputs": [],
   "source": [
    "df = pd.DataFrame(correos,columns=['emails'])"
   ]
  },
  {
   "cell_type": "code",
   "execution_count": 58,
   "metadata": {},
   "outputs": [
    {
     "data": {
      "text/html": [
       "<div>\n",
       "<style scoped>\n",
       "    .dataframe tbody tr th:only-of-type {\n",
       "        vertical-align: middle;\n",
       "    }\n",
       "\n",
       "    .dataframe tbody tr th {\n",
       "        vertical-align: top;\n",
       "    }\n",
       "\n",
       "    .dataframe thead th {\n",
       "        text-align: right;\n",
       "    }\n",
       "</style>\n",
       "<table border=\"1\" class=\"dataframe\">\n",
       "  <thead>\n",
       "    <tr style=\"text-align: right;\">\n",
       "      <th></th>\n",
       "      <th>emails</th>\n",
       "    </tr>\n",
       "  </thead>\n",
       "  <tbody>\n",
       "    <tr>\n",
       "      <th>0</th>\n",
       "      <td>ma.acastenco@gmail.com</td>\n",
       "    </tr>\n",
       "    <tr>\n",
       "      <th>1</th>\n",
       "      <td>melbaguilaruiz@gmail.com</td>\n",
       "    </tr>\n",
       "    <tr>\n",
       "      <th>2</th>\n",
       "      <td>ely4emy@gmail.com</td>\n",
       "    </tr>\n",
       "    <tr>\n",
       "      <th>3</th>\n",
       "      <td>yanel.anota92@gmail.com</td>\n",
       "    </tr>\n",
       "    <tr>\n",
       "      <th>4</th>\n",
       "      <td>frank19961@hotmail.com</td>\n",
       "    </tr>\n",
       "  </tbody>\n",
       "</table>\n",
       "</div>"
      ],
      "text/plain": [
       "                     emails\n",
       "0    ma.acastenco@gmail.com\n",
       "1  melbaguilaruiz@gmail.com\n",
       "2         ely4emy@gmail.com\n",
       "3   yanel.anota92@gmail.com\n",
       "4    frank19961@hotmail.com"
      ]
     },
     "execution_count": 58,
     "metadata": {},
     "output_type": "execute_result"
    }
   ],
   "source": [
    "df.head()\n",
    "# OPTIONAL df.to_csv(\"email.csv\")"
   ]
  },
  {
   "cell_type": "code",
   "execution_count": null,
   "metadata": {},
   "outputs": [],
   "source": []
  },
  {
   "cell_type": "code",
   "execution_count": null,
   "metadata": {},
   "outputs": [],
   "source": []
  },
  {
   "cell_type": "code",
   "execution_count": null,
   "metadata": {},
   "outputs": [],
   "source": []
  },
  {
   "cell_type": "code",
   "execution_count": null,
   "metadata": {},
   "outputs": [],
   "source": [
    "\n"
   ]
  },
  {
   "cell_type": "code",
   "execution_count": null,
   "metadata": {},
   "outputs": [],
   "source": []
  },
  {
   "cell_type": "code",
   "execution_count": null,
   "metadata": {},
   "outputs": [],
   "source": []
  }
 ],
 "metadata": {
  "kernelspec": {
   "display_name": "Python 3",
   "language": "python",
   "name": "python3"
  },
  "language_info": {
   "codemirror_mode": {
    "name": "ipython",
    "version": 3
   },
   "file_extension": ".py",
   "mimetype": "text/x-python",
   "name": "python",
   "nbconvert_exporter": "python",
   "pygments_lexer": "ipython3",
   "version": "3.7.6"
  }
 },
 "nbformat": 4,
 "nbformat_minor": 4
}
